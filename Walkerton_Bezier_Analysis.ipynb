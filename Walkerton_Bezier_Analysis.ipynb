{
 "cells": [
  {
   "cell_type": "code",
   "execution_count": null,
   "id": "4167c9ef",
   "metadata": {
    "vscode": {
     "languageId": "plaintext"
    }
   },
   "outputs": [],
   "source": [
    "!pip install wntr matplotlib numpy"
   ]
  },
  {
   "cell_type": "code",
   "execution_count": null,
   "id": "19019f7f",
   "metadata": {
    "vscode": {
     "languageId": "plaintext"
    }
   },
   "outputs": [],
   "source": [
    "import wntr                     \n",
    "import matplotlib.pyplot as plt \n",
    "import numpy as np"
   ]
  },
  {
   "cell_type": "code",
   "execution_count": null,
   "id": "e6870be4",
   "metadata": {
    "vscode": {
     "languageId": "plaintext"
    }
   },
   "outputs": [],
   "source": [
    "inp_file = \"Walkerton_with_Bezier.inp\"\n",
    "wn = wntr.network.WaterNetworkModel(inp_file)"
   ]
  },
  {
   "cell_type": "code",
   "execution_count": null,
   "id": "d64c3184",
   "metadata": {
    "vscode": {
     "languageId": "plaintext"
    }
   },
   "outputs": [],
   "source": [
    "print(f\"Number of junctions: {len(wn.junction_name_list)}\")\n",
    "print(f\"Number of pipes: {len(wn.pipe_name_list)}\")\n",
    "print(f\"Number of reservoirs: {len(wn.reservoir_name_list)}\")\n",
    "print(f\"Number of tanks: {len(wn.tank_name_list)}\")"
   ]
  },
  {
   "cell_type": "code",
   "execution_count": null,
   "id": "73bf1053",
   "metadata": {
    "vscode": {
     "languageId": "plaintext"
    }
   },
   "outputs": [],
   "source": [
    "plt.figure(figsize=(12, 9))\n",
    "wntr.graphics.plot_network(\n",
    "    wn,\n",
    "    node_attribute=None,\n",
    "    edge_attribute=None,\n",
    "    node_size=40,\n",
    "    node_color='deepskyblue',\n",
    "    edge_color='gray',\n",
    "    with_labels=False,\n",
    "    title=\"Walkerton Network with Bézier Segment\"\n",
    ")\n",
    "plt.show()"
   ]
  },
  {
   "cell_type": "code",
   "execution_count": null,
   "id": "25219e1d",
   "metadata": {
    "vscode": {
     "languageId": "plaintext"
    }
   },
   "outputs": [],
   "source": [
    "sim = wn.get_simulator('EPANET')\n",
    "results = sim.run_sim()\n",
    "\n",
    "\n",
    "pressure = results.node['pressure']\n",
    "\n",
    "\n",
    "pressure.loc[:, 'J_BEZ_6'].head()"
   ]
  },
  {
   "cell_type": "code",
   "execution_count": null,
   "id": "5e87780d",
   "metadata": {
    "vscode": {
     "languageId": "plaintext"
    }
   },
   "outputs": [],
   "source": [
    "pressure.loc[:, 'J_BEZ_6'].plot(\n",
    "    figsize=(10, 5),\n",
    "    title=\"Pressure at Node J_BEZ_6 (Bézier Segment)\",\n",
    "    ylabel=\"Pressure [m]\",\n",
    "    xlabel=\"Time [s]\",\n",
    "    grid=True\n",
    ")\n",
    "plt.show()"
   ]
  },
  {
   "cell_type": "code",
   "execution_count": null,
   "id": "e4c770b9",
   "metadata": {
    "vscode": {
     "languageId": "plaintext"
    }
   },
   "outputs": [],
   "source": [
    "bezier_nodes = [f\"J_BEZ_{i+1}\" for i in range(11)]\n",
    "bezier_pipes = [f\"P_BEZ_{i+1}\" for i in range(10)]\n",
    "\n",
    "plt.figure(figsize=(12, 9))\n",
    "wntr.graphics.plot_network(\n",
    "    wn,\n",
    "    node_attribute=None,\n",
    "    edge_attribute=None,\n",
    "    node_size=50,\n",
    "    node_color='red',\n",
    "    edge_color='blue',\n",
    "    with_labels=True,\n",
    "    title=\"Highlighted Bézier Segment\",\n",
    "    node_list=bezier_nodes,\n",
    "    link_list=bezier_pipes\n",
    ")\n",
    "plt.show()"
   ]
  }
 ],
 "metadata": {
  "language_info": {
   "name": "python"
  }
 },
 "nbformat": 4,
 "nbformat_minor": 5
}
